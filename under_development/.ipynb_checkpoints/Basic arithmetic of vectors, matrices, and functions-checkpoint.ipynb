{
 "cells": [
  {
   "cell_type": "markdown",
   "metadata": {},
   "source": [
    "#  Basic arithmetic of vectors, matrices, and functions\n",
    "\n",
    "In this notebook we review some arithmetic \n",
    "\n"
   ]
  },
  {
   "cell_type": "markdown",
   "metadata": {},
   "source": [
    "#  1.  Arithmetic of vectors\n",
    "\n",
    "## Basic concepts\n",
    "\n",
    "Vectors are just generalized scalars - and come in two forms: rows or columns.\n",
    "\n",
    "A row vector is a long horizontal array of numbers like the one below.\n",
    "\n",
    "\n",
    "$\\mathbf{x}=\\left[\\begin{array}{ccc}\n",
    "3.7 & 1 & 0.4\\end{array}\\right]$\n",
    "\n",
    "The dimensions of this vector are 1 by 3 (or written 1 x 3 for short) - indicating it is a row vector with 3 entries.\n",
    "\n",
    "The other type of vector is a column vector - a long vertical array of numbers like the one below.\n",
    "\n",
    "$\\mathbf{x}=\\left[\\begin{array}{c}\n",
    "1\\\\\n",
    "1\\\\\n",
    "7\\\\\n",
    "0.4\n",
    "\\end{array}\\right]$\n",
    "\n",
    "The dimensions of this vector are 4 by 1 (4 x 1 for short) - indicating it is a column vector with 4 entries.\n",
    "\n",
    "We can flip or 'transpose' a column vector to make it a row vector, and vice versa.  This is denoted with a superscript 'T' - as in $\\mathbf{x}^{T}$.\n",
    "\n",
    "So for example if \n",
    "\n",
    "$\\mathbf{x}=\\left[\\begin{array}{ccc}\n",
    "3.7 & 1 & 0.4\\end{array}\\right]$  \n",
    "\n",
    "is a 1x3 row vector then\n",
    "\n",
    "$\\mathbf{x}^{T}=\\left[\\begin{array}{c}\n",
    "3.7\\\\\n",
    "1\\\\\n",
    "0.4\n",
    "\\end{array}\\right]$\n",
    "\n",
    "is a 3x1 column vector.  Whenever you transpose a vector you always switch its dimensions - so a 1xN vector becomes an Nx1 vector after transposing (and vice versa).\n",
    "\n",
    "Note: a general 1xN row vector is denoted by \n",
    "\n",
    "$\\mathbf{x}=\\left[\\begin{array}{cccc}\n",
    "x_{1} & x_{2} & \\cdots & x_{N}\\end{array}\\right]$\n",
    "\n",
    "and its transpose - an Nx1 column vector - can be written using transpose notation as \n",
    "\n",
    "\n",
    "$\\mathbf{x}=\\left[\\begin{array}{cccc}\n",
    "x_{1} & x_{2} & \\cdots & x_{N}\\end{array}\\right]^{T}$"
   ]
  },
  {
   "cell_type": "markdown",
   "metadata": {},
   "source": [
    "Lets look at this functionality in Python's Numpy library - a great library for performing computations with vectors and matrices."
   ]
  },
  {
   "cell_type": "code",
   "execution_count": 3,
   "metadata": {
    "collapsed": false
   },
   "outputs": [],
   "source": [
    "import numpy as np       # import statement for numpy\n",
    "x = np.asarray([3.7,1,0.4])"
   ]
  },
  {
   "cell_type": "markdown",
   "metadata": {},
   "source": [
    "Note that by default an array initialized in this way is *dimensionless* - which you can see by printing its shape as follows."
   ]
  },
  {
   "cell_type": "code",
   "execution_count": 4,
   "metadata": {
    "collapsed": false
   },
   "outputs": [
    {
     "name": "stdout",
     "output_type": "stream",
     "text": [
      "(3,)\n"
     ]
    }
   ],
   "source": [
    "print np.shape(x)"
   ]
  },
  {
   "cell_type": "markdown",
   "metadata": {},
   "source": [
    "We can re-shape this array as a row vector by performing the following action."
   ]
  },
  {
   "cell_type": "code",
   "execution_count": 7,
   "metadata": {
    "collapsed": false
   },
   "outputs": [
    {
     "name": "stdout",
     "output_type": "stream",
     "text": [
      "(1, 3)\n"
     ]
    }
   ],
   "source": [
    "x.shape = (1,3)     # this reshapes the array as a row vector\n",
    "print np.shape(x)"
   ]
  },
  {
   "cell_type": "markdown",
   "metadata": {},
   "source": [
    "To shape this array as a column we use a similar line as follows."
   ]
  },
  {
   "cell_type": "code",
   "execution_count": 8,
   "metadata": {
    "collapsed": false
   },
   "outputs": [
    {
     "name": "stdout",
     "output_type": "stream",
     "text": [
      "(3, 1)\n"
     ]
    }
   ],
   "source": [
    "x.shape = (3,1)\n",
    "print np.shape(x)"
   ]
  },
  {
   "cell_type": "markdown",
   "metadata": {},
   "source": [
    "We can also transpose a numpy vector by writing --> x.T   Print this out we can see that the vector is indeed transposed."
   ]
  },
  {
   "cell_type": "code",
   "execution_count": 11,
   "metadata": {
    "collapsed": false
   },
   "outputs": [
    {
     "name": "stdout",
     "output_type": "stream",
     "text": [
      "the original vector - is a column vector\n",
      "[[ 3.7]\n",
      " [ 1. ]\n",
      " [ 0.4]]\n",
      "the transpose is a row vector\n",
      "[[ 3.7  1.   0.4]]\n"
     ]
    }
   ],
   "source": [
    "print 'the original vector - is a column vector'\n",
    "print x\n",
    "print 'the transpose is a row vector'\n",
    "print x.T"
   ]
  },
  {
   "cell_type": "markdown",
   "metadata": {},
   "source": [
    "## Adding and subtracting vectors\n",
    "\n",
    "Adding and subtracting vectors is just like adding and subtracting scalars - with one caveat: you can only add vectors that have the same dimensions.  So you *can't* add two row vectors of different lengths, or a row vector and column vector.  So for example to add two Nx1 column vectors \n",
    "\n",
    "$\\mathbf{x}=\\left[\\begin{array}{c}\n",
    "x_{1}\\\\\n",
    "x_{2}\\\\\n",
    "\\vdots\\\\\n",
    "x_{N}\n",
    "\\end{array}\\right],\\,\\,\\,\\,\\,\\,\\,\\mathbf{y}=\\left[\\begin{array}{c}\n",
    "y_{1}\\\\\n",
    "y_{2}\\\\\n",
    "\\vdots\\\\\n",
    "y_{N}\n",
    "\\end{array}\\right]$\n",
    "\n",
    "we add them *entry-wise* as \n",
    "\n",
    "$\\mathbf{x}+\\mathbf{y}={\\left[\\begin{array}{c}\n",
    "x_{1}+y_{1}\\\\\n",
    "x_{2}+y_{2}\\\\\n",
    "\\vdots\\\\\n",
    "x_{N}+y_{N}\n",
    "\\end{array}\\right]}$\n",
    "\n",
    "The same holds for subtraction - its done entrywise."
   ]
  },
  {
   "cell_type": "markdown",
   "metadata": {},
   "source": [
    "Lets try some addition experiments in numpy."
   ]
  },
  {
   "cell_type": "code",
   "execution_count": 12,
   "metadata": {
    "collapsed": false
   },
   "outputs": [
    {
     "name": "stdout",
     "output_type": "stream",
     "text": [
      "[[ 1]\n",
      " [ 7]\n",
      " [10]]\n"
     ]
    }
   ],
   "source": [
    "x = np.array([1,4,2])\n",
    "x.shape = (3,1)\n",
    "y = np.array([0,3,8])\n",
    "y.shape = (3,1)\n",
    "print (x+y)"
   ]
  },
  {
   "cell_type": "markdown",
   "metadata": {},
   "source": [
    "But if we try to add two vectors that aren't the same shape - we'll get into trouble - and numpy will throw an error reflecting this."
   ]
  },
  {
   "cell_type": "code",
   "execution_count": 15,
   "metadata": {
    "collapsed": false
   },
   "outputs": [
    {
     "ename": "ValueError",
     "evalue": "operands could not be broadcast together with shapes (2,1) (3,1) ",
     "output_type": "error",
     "traceback": [
      "\u001b[0;31m---------------------------------------------------------------------------\u001b[0m",
      "\u001b[0;31mValueError\u001b[0m                                Traceback (most recent call last)",
      "\u001b[0;32m<ipython-input-15-c7e52ea59d50>\u001b[0m in \u001b[0;36m<module>\u001b[0;34m()\u001b[0m\n\u001b[1;32m      3\u001b[0m \u001b[0my\u001b[0m \u001b[0;34m=\u001b[0m \u001b[0mnp\u001b[0m\u001b[0;34m.\u001b[0m\u001b[0marray\u001b[0m\u001b[0;34m(\u001b[0m\u001b[0;34m[\u001b[0m\u001b[0;36m0\u001b[0m\u001b[0;34m,\u001b[0m\u001b[0;36m3\u001b[0m\u001b[0;34m,\u001b[0m\u001b[0;36m8\u001b[0m\u001b[0;34m]\u001b[0m\u001b[0;34m)\u001b[0m\u001b[0;34m\u001b[0m\u001b[0m\n\u001b[1;32m      4\u001b[0m \u001b[0my\u001b[0m\u001b[0;34m.\u001b[0m\u001b[0mshape\u001b[0m \u001b[0;34m=\u001b[0m \u001b[0;34m(\u001b[0m\u001b[0;36m3\u001b[0m\u001b[0;34m,\u001b[0m\u001b[0;36m1\u001b[0m\u001b[0;34m)\u001b[0m\u001b[0;34m\u001b[0m\u001b[0m\n\u001b[0;32m----> 5\u001b[0;31m \u001b[0;32mprint\u001b[0m \u001b[0;34m(\u001b[0m\u001b[0mx\u001b[0m\u001b[0;34m+\u001b[0m\u001b[0my\u001b[0m\u001b[0;34m)\u001b[0m\u001b[0;34m\u001b[0m\u001b[0m\n\u001b[0m",
      "\u001b[0;31mValueError\u001b[0m: operands could not be broadcast together with shapes (2,1) (3,1) "
     ]
    }
   ],
   "source": [
    "x = np.array([1,4])\n",
    "x.shape = (2,1)\n",
    "y = np.array([0,3,8])\n",
    "y.shape = (3,1)\n",
    "print (x+y)"
   ]
  },
  {
   "cell_type": "markdown",
   "metadata": {},
   "source": [
    "## Multiplying a vector by a scalar\n",
    "\n",
    "We can multiply vectors by a scalar in a natural way - to multiply a vector by a scalar multiply each entry of the vector by that scalar.  \n",
    "\n",
    "For example, to multiply the vector \n",
    "\n",
    "\n",
    "$\\mathbf{x}=\\left[\\begin{array}{c}\n",
    "2\\\\\n",
    "4\\\\\n",
    "1\n",
    "\\end{array}\\right]$\n",
    "\n",
    "\n",
    "by 3 we have\n",
    "\n",
    "\n",
    "$3\\cdot\\mathbf{\\mathbf{x}}=\\left[\\begin{array}{c}\n",
    "3\\cdot2\\\\\n",
    "3\\cdot4\\\\\n",
    "3\\cdot1\n",
    "\\end{array}\\right]=\\left[\\begin{array}{c}\n",
    "6\\\\\n",
    "12\\\\\n",
    "3\n",
    "\\end{array}\\right]$\n",
    "\n",
    "In Python we can compute this simply as "
   ]
  },
  {
   "cell_type": "code",
   "execution_count": 51,
   "metadata": {
    "collapsed": false
   },
   "outputs": [
    {
     "name": "stdout",
     "output_type": "stream",
     "text": [
      "[[ 6]\n",
      " [12]\n",
      " [ 3]]\n"
     ]
    }
   ],
   "source": [
    "x = np.array([2,4,1])\n",
    "x.shape = (3,1)\n",
    "print 3*x"
   ]
  },
  {
   "cell_type": "markdown",
   "metadata": {},
   "source": [
    "This holds in general for a general Nx1 vector $\\bf{x}$ - to multiply it by any scalar $\\alpha$ we compute\n",
    "\n",
    "$\\alpha\\cdot\\mathbf{x}=\\left[\\begin{array}{c}\n",
    "\\alpha\\cdot x_{1}\\\\\n",
    "\\alpha\\cdot x_{2}\\\\\n",
    "\\vdots\\\\\n",
    "\\alpha\\cdot x_{N}\n",
    "\\end{array}\\right]$"
   ]
  },
  {
   "cell_type": "markdown",
   "metadata": {},
   "source": [
    "## Multiplying two vectors - the inner product\n",
    "\n",
    "Multiplying vectors generalizes the concept of multiplication of scalar values.  To multiply to Nx1 length vectors we multiply them entry-wise and add up the result - **giving a scalar value** (just like scalar multiplication).  That is \n",
    "\n",
    "$\\mathbf{x}^{T}\\mathbf{y}=\\left[\\begin{array}{c}\n",
    "x_{1}\\\\\n",
    "x_{2}\\\\\n",
    "\\vdots\\\\\n",
    "x_{N}\n",
    "\\end{array}\\right]^{T}\\left[\\begin{array}{c}\n",
    "y_{1}\\\\\n",
    "y_{2}\\\\\n",
    "\\vdots\\\\\n",
    "y_{N}\n",
    "\\end{array}\\right]=x_{1}y_{1}+x_{2}y_{2}+\\cdots x_{N}y_{N}$\n",
    "\n",
    "\n",
    "Using summation notation we can write this more compactly.  Summation notation zips up - notationally speaking - sums.  For example, to sum up $N$ numbers $a_1, a_2,...,a_N$ we can write \n",
    "\n",
    "$a_1 + a_2 + ... + a_N = \\sum_{n=1}^{n=N}a_n$\n",
    "\n",
    "We can write the mutliplication of two vectors compactly then as \n",
    "\n",
    "$\\mathbf{x}^{T}\\mathbf{y}=x_{1}y_{1}+x_{2}y_{2}+\\cdots x_{N}y_{N}=\\sum_{n=1}^{n=N}{x_ny_n}$\n",
    "\n",
    "This vector multiplication is known as the **inner product**.  \n",
    "\n",
    "Lets try computing the inner product using numpy and a few example vectors.  Note that in order to compute the inner product in numpy you must use the np.dot function.  "
   ]
  },
  {
   "cell_type": "code",
   "execution_count": 27,
   "metadata": {
    "collapsed": false
   },
   "outputs": [
    {
     "name": "stdout",
     "output_type": "stream",
     "text": [
      "28\n"
     ]
    }
   ],
   "source": [
    "x = np.array([1,4,2])\n",
    "x.shape = (3,1)\n",
    "y = np.array([0,3,8])\n",
    "y.shape = (3,1)\n",
    "print (np.dot(x.T,y))[0][0]"
   ]
  },
  {
   "cell_type": "markdown",
   "metadata": {},
   "source": [
    "Notice how writing x*y in Python does not give you a single - this gives a vector whose entries are the product of the entries of each vector.  e.g., "
   ]
  },
  {
   "cell_type": "code",
   "execution_count": 22,
   "metadata": {
    "collapsed": false
   },
   "outputs": [
    {
     "name": "stdout",
     "output_type": "stream",
     "text": [
      "[[ 0]\n",
      " [12]\n",
      " [16]]\n"
     ]
    }
   ],
   "source": [
    "print x*y"
   ]
  },
  {
   "cell_type": "markdown",
   "metadata": {},
   "source": [
    "So another way to get the inner product is to sum this entry-wise vector multiplication."
   ]
  },
  {
   "cell_type": "code",
   "execution_count": 26,
   "metadata": {
    "collapsed": false
   },
   "outputs": [
    {
     "name": "stdout",
     "output_type": "stream",
     "text": [
      "28\n",
      "28\n"
     ]
    }
   ],
   "source": [
    "print np.sum(x*y)\n",
    "print np.dot(x.T,y)[0][0]"
   ]
  },
  {
   "cell_type": "markdown",
   "metadata": {},
   "source": [
    "# TODO\n",
    "\n",
    "### TODO\n",
    "\n",
    "Verify whether the following relationship involving the inner product \n",
    "\n",
    "$\\left(\\mathbf{x}+\\mathbf{y}\\right)^{T}\\mathbf{z}=\\mathbf{x}^{T}\\mathbf{z}+\\mathbf{y}^{T}\\mathbf{z}$\n",
    "\n",
    "is true or false.  \n",
    "\n",
    "Creating a few test vectors using numpy to check see if the relationship holds for them numerically."
   ]
  },
  {
   "cell_type": "markdown",
   "metadata": {},
   "source": [
    "## Multiplying two vectors - the outer product\n",
    "\n",
    "Another way to multiply vectors is called the **outer product**.  This is defined for two Nx1 column vectors $\\bf{x}$ and $\\bf{y}$\n",
    "\n",
    "$\\mathbf{x}=\\left[\\begin{array}{c}\n",
    "x_{1}\\\\\n",
    "x_{2}\\\\\n",
    "\\vdots\\\\\n",
    "x_{N}\n",
    "\\end{array}\\right],\\,\\,\\,\\,\\,\\,\\,\\mathbf{y}=\\left[\\begin{array}{c}\n",
    "y_{1}\\\\\n",
    "y_{2}\\\\\n",
    "\\vdots\\\\\n",
    "y_{N}\n",
    "\\end{array}\\right]$\n",
    "\n",
    "\n",
    "as\n",
    "\n",
    "\n",
    "$\\mathbf{x}\\mathbf{y}^{T}=\\left[\\begin{array}{c}\n",
    "x_{1}\\\\\n",
    "x_{2}\\\\\n",
    "\\vdots\\\\\n",
    "x_{N}\n",
    "\\end{array}\\right]\\left[\\begin{array}{c}\n",
    "y_{1}\\\\\n",
    "y_{2}\\\\\n",
    "\\vdots\\\\\n",
    "y_{N}\n",
    "\\end{array}\\right]^{T}=\\left[\\begin{array}{cccc}\n",
    "x_{1}y_{1} & x_{1}y_{2} & \\cdots & x_{1}y_{N}\\\\\n",
    "x_{2}y_{1} & x_{2}y_{2} &  & \\vdots\\\\\n",
    "\\vdots &  & \\ddots & \\vdots\\\\\n",
    "x_{N}y_{1} & \\cdots & \\cdots & x_{N}y_{N}\n",
    "\\end{array}\\right]$\n",
    "\n",
    "\n",
    "So for example, for two vectors \n",
    "\n",
    "$\\mathbf{x}=\\left[\\begin{array}{c}\n",
    "2\\\\\n",
    "4\\\\\n",
    "1\n",
    "\\end{array}\\right]\\,\\,\\,\\,\\mathbf{y}=\\left[\\begin{array}{c}\n",
    "3\\\\\n",
    "0\\\\\n",
    "5\n",
    "\\end{array}\\right]$\n",
    "\n",
    "the outer product is \n",
    "\n",
    "$\\mathbf{x}\\mathbf{y}^{T}=\\left[\\begin{array}{ccc}\n",
    "2\\cdot3 & 2\\cdot0 & 2\\cdot5\\\\\n",
    "4\\cdot3 & 4\\cdot0 & 4\\cdot5\\\\\n",
    "1\\cdot3 & 1\\cdot0 & 1\\cdot5\n",
    "\\end{array}\\right]=\\left[\\begin{array}{ccc}\n",
    "6 & 0 & 10\\\\\n",
    "12 & 0 & 20\\\\\n",
    "3 & 0 & 5\n",
    "\\end{array}\\right]$"
   ]
  },
  {
   "cell_type": "markdown",
   "metadata": {},
   "source": [
    "In Python we can compute this outer product as "
   ]
  },
  {
   "cell_type": "code",
   "execution_count": 28,
   "metadata": {
    "collapsed": false
   },
   "outputs": [
    {
     "name": "stdout",
     "output_type": "stream",
     "text": [
      "[[ 6  0 10]\n",
      " [12  0 20]\n",
      " [ 3  0  5]]\n"
     ]
    }
   ],
   "source": [
    "x = np.array([2,4,1])\n",
    "x.shape = (3,1)\n",
    "y = np.array([3,0,5])\n",
    "y.shape = (3,1)\n",
    "print x*y.T"
   ]
  },
  {
   "cell_type": "markdown",
   "metadata": {},
   "source": [
    "### TODO\n",
    "\n",
    "Verify whether the following relationship involving the outer product \n",
    "\n",
    "$\\left(\\mathbf{x}+\\mathbf{y}\\right)\\mathbf{z}^{T}=\\mathbf{x}\\mathbf{z}^{T}+\\mathbf{y}\\mathbf{z}^{T}$\n",
    "\n",
    "is true or false.\n",
    "\n",
    "Creating a few test vectors using numpy to check see if the relationship holds for them numerically."
   ]
  },
  {
   "cell_type": "markdown",
   "metadata": {},
   "source": [
    "# 2.  Arithmetic with matrices\n",
    "\n",
    "This works analagously to that of vectors.  e.g., you can only add matrices of the same size, multiplication works as an inner product, etc.,  For further info [see this appendix document](http://media.wix.com/ugd/f09e45_5e6ded23bdae4f84aeeedec53a909a35.pdf).[1]\n",
    "\n",
    "The most important concept for our purposes is how to multiply a matrix times a vector."
   ]
  },
  {
   "cell_type": "markdown",
   "metadata": {},
   "source": [
    "# 3 Arithmetic operations on functions\n",
    "\n",
    "Functions"
   ]
  },
  {
   "cell_type": "code",
   "execution_count": 48,
   "metadata": {
    "collapsed": false
   },
   "outputs": [
    {
     "data": {
      "text/plain": [
       "<matplotlib.text.Text at 0x114cb2410>"
      ]
     },
     "execution_count": 48,
     "metadata": {},
     "output_type": "execute_result"
    },
    {
     "data": {
      "image/png": "[encoded data removed]",
      "text/plain": [
       "<matplotlib.figure.Figure at 0x110760e10>"
      ]
     },
     "metadata": {},
     "output_type": "display_data"
    }
   ],
   "source": [
    "%matplotlib inline\n",
    "import matplotlib.pyplot as plt\n",
    "\n",
    "# initialize panels\n",
    "fig = plt.figure(num=None, figsize=(15,5), dpi=80, facecolor='w', edgecolor='k')\n",
    "ax1 = plt.subplot(131)\n",
    "ax2 = plt.subplot(132)\n",
    "ax3 = plt.subplot(133)\n",
    "        \n",
    "# \n",
    "x = np.linspace(-5,5,100)\n",
    "y1 = x\n",
    "y2 = np.sin(x)\n",
    "y = y1 + y2\n",
    "\n",
    "# plot each panel\n",
    "ax1.plot(x,y1)\n",
    "ax2.plot(x,y2)\n",
    "ax3.plot(x,y1 + y2)\n",
    "\n",
    "# label and clean up each panel\n",
    "ax1.set_title('plot of $y_1$',rotation = 0,fontsize = 20)\n",
    "ax2.set_title('plot of $y_2$',rotation = 0,fontsize = 20)\n",
    "ax3.set_title('plot of $y_1 + y_2$',rotation = 0,fontsize = 20)"
   ]
  },
  {
   "cell_type": "markdown",
   "metadata": {
    "collapsed": true
   },
   "source": [
    "# Approximating vectors using sums of vectors"
   ]
  },
  {
   "cell_type": "markdown",
   "metadata": {},
   "source": [
    "# Approximating functions using sums of functions"
   ]
  }
 ],
 "metadata": {
  "anaconda-cloud": {},
  "kernelspec": {
   "display_name": "Python [conda root]",
   "language": "python",
   "name": "conda-root-py"
  },
  "language_info": {
   "codemirror_mode": {
    "name": "ipython",
    "version": 2
   },
   "file_extension": ".py",
   "mimetype": "text/x-python",
   "name": "python",
   "nbconvert_exporter": "python",
   "pygments_lexer": "ipython2",
   "version": "2.7.12"
  }
 },
 "nbformat": 4,
 "nbformat_minor": 1
}
